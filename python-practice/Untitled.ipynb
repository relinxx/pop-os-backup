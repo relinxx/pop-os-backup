{
 "cells": [
  {
   "cell_type": "code",
   "execution_count": 1,
   "id": "b5f303e1",
   "metadata": {},
   "outputs": [
    {
     "name": "stdout",
     "output_type": "stream",
     "text": [
      "apple\n",
      "banana\n",
      "cherry\n",
      "date\n"
     ]
    }
   ],
   "source": [
    "fruits = [\"apple\", \"banana\", \"cherry\", \"date\"]\n",
    "for fruit in fruits:\n",
    "    print(f\"I like {fruit})\n"
   ]
  },
  {
   "cell_type": "code",
   "execution_count": 2,
   "id": "1d261604",
   "metadata": {},
   "outputs": [
    {
     "name": "stdout",
     "output_type": "stream",
     "text": [
      "-20\n",
      "-40\n",
      "-21\n",
      "-42\n",
      "-40\n",
      "-80\n",
      "-42\n",
      "-84\n"
     ]
    }
   ],
   "source": [
    "for i in range(1,3):\n",
    "    for j in range(20, 22):\n",
    "        for k in range(-1, -3, -1):\n",
    "            print(i*j*k)"
   ]
  },
  {
   "cell_type": "code",
   "execution_count": 3,
   "id": "4bb9b0af",
   "metadata": {},
   "outputs": [
    {
     "data": {
      "text/plain": [
       "[2, 4]"
      ]
     },
     "execution_count": 3,
     "metadata": {},
     "output_type": "execute_result"
    }
   ],
   "source": [
    "num = [1,2,3,4,5]\n",
    "\n",
    "myList = [n for n in num if n%2 == 0]\n",
    "myList"
   ]
  },
  {
   "cell_type": "code",
   "execution_count": 5,
   "id": "88eda434",
   "metadata": {},
   "outputs": [],
   "source": [
    "names = ['clark','peter','bruce','kaneki','yuji']\n",
    "heroes = ['superman','spiderman','batman','ghoul','curse Disposer']\n",
    "\n",
    "mydic = {name:hero for name, hero in zip(names,heroes) if name != 'peter'}"
   ]
  },
  {
   "cell_type": "code",
   "execution_count": 7,
   "id": "0dbf44ec",
   "metadata": {},
   "outputs": [
    {
     "data": {
      "text/plain": [
       "{0, 1, 2, 3, 4, 5, 6, 7, 8, 9}"
      ]
     },
     "execution_count": 7,
     "metadata": {},
     "output_type": "execute_result"
    }
   ],
   "source": [
    "nums = [1,2,3,4,2,1,3,4,5,5,6,6,7,8,8,9,0]\n",
    "\n",
    "myset = {n for n in nums}\n",
    "myset"
   ]
  },
  {
   "cell_type": "code",
   "execution_count": 12,
   "id": "f62b746c",
   "metadata": {},
   "outputs": [
    {
     "data": {
      "text/plain": [
       "[1, 4, 9, 16, 25]"
      ]
     },
     "execution_count": 12,
     "metadata": {},
     "output_type": "execute_result"
    }
   ],
   "source": [
    "myNums = [1,2,3,4,5]\n",
    "\n",
    "square = lambda num: num**2\n",
    "list = [square(n) for n in myNums]\n",
    "list"
   ]
  },
  {
   "cell_type": "code",
   "execution_count": 22,
   "id": "ff168bb9",
   "metadata": {},
   "outputs": [
    {
     "ename": "TypeError",
     "evalue": "'list' object is not callable",
     "output_type": "error",
     "traceback": [
      "\u001b[0;31m---------------------------------------------------------------------------\u001b[0m",
      "\u001b[0;31mTypeError\u001b[0m                                 Traceback (most recent call last)",
      "\u001b[0;32m/tmp/ipykernel_8130/2264117517.py\u001b[0m in \u001b[0;36m<module>\u001b[0;34m\u001b[0m\n\u001b[0;32m----> 1\u001b[0;31m \u001b[0mdoubled\u001b[0m \u001b[0;34m=\u001b[0m \u001b[0mlist\u001b[0m\u001b[0;34m(\u001b[0m\u001b[0;34m)\u001b[0m\u001b[0;34m\u001b[0m\u001b[0;34m\u001b[0m\u001b[0m\n\u001b[0m\u001b[1;32m      2\u001b[0m \u001b[0mnumbers\u001b[0m \u001b[0;34m=\u001b[0m \u001b[0;34m[\u001b[0m\u001b[0;36m1\u001b[0m\u001b[0;34m,\u001b[0m\u001b[0;36m2\u001b[0m\u001b[0;34m,\u001b[0m\u001b[0;36m3\u001b[0m\u001b[0;34m,\u001b[0m\u001b[0;36m4\u001b[0m\u001b[0;34m,\u001b[0m\u001b[0;36m5\u001b[0m\u001b[0;34m]\u001b[0m\u001b[0;34m\u001b[0m\u001b[0;34m\u001b[0m\u001b[0m\n\u001b[1;32m      3\u001b[0m \u001b[0mdoubled\u001b[0m \u001b[0;34m=\u001b[0m \u001b[0mlist\u001b[0m\u001b[0;34m(\u001b[0m\u001b[0mmap\u001b[0m\u001b[0;34m(\u001b[0m\u001b[0;32mlambda\u001b[0m \u001b[0mn\u001b[0m\u001b[0;34m:\u001b[0m \u001b[0mn\u001b[0m\u001b[0;34m**\u001b[0m\u001b[0;36m2\u001b[0m\u001b[0;34m,\u001b[0m \u001b[0mnumbers\u001b[0m\u001b[0;34m)\u001b[0m\u001b[0;34m)\u001b[0m\u001b[0;34m\u001b[0m\u001b[0;34m\u001b[0m\u001b[0m\n\u001b[1;32m      4\u001b[0m \u001b[0mprint\u001b[0m\u001b[0;34m(\u001b[0m\u001b[0mdoubled\u001b[0m\u001b[0;34m)\u001b[0m\u001b[0;34m\u001b[0m\u001b[0;34m\u001b[0m\u001b[0m\n",
      "\u001b[0;31mTypeError\u001b[0m: 'list' object is not callable"
     ]
    }
   ],
   "source": [
    "numbers = [1,2,3,4,5]\n",
    "doubled = list(map(lambda n: n**2, numbers))\n",
    "print(doubled)\n"
   ]
  },
  {
   "cell_type": "code",
   "execution_count": 9,
   "id": "a273832d",
   "metadata": {},
   "outputs": [
    {
     "name": "stdout",
     "output_type": "stream",
     "text": [
      "Calling add with args=(3, 4), kwargs={'isRunning': True}\n"
     ]
    },
    {
     "ename": "TypeError",
     "evalue": "add() got an unexpected keyword argument 'isRunning'",
     "output_type": "error",
     "traceback": [
      "\u001b[0;31m---------------------------------------------------------------------------\u001b[0m",
      "\u001b[0;31mTypeError\u001b[0m                                 Traceback (most recent call last)",
      "\u001b[0;32m/tmp/ipykernel_116118/2414977129.py\u001b[0m in \u001b[0;36m<module>\u001b[0;34m\u001b[0m\n\u001b[1;32m     13\u001b[0m     \u001b[0;32mreturn\u001b[0m \u001b[0ma\u001b[0m \u001b[0;34m+\u001b[0m \u001b[0mb\u001b[0m\u001b[0;34m\u001b[0m\u001b[0;34m\u001b[0m\u001b[0m\n\u001b[1;32m     14\u001b[0m \u001b[0;34m\u001b[0m\u001b[0m\n\u001b[0;32m---> 15\u001b[0;31m \u001b[0madd\u001b[0m\u001b[0;34m(\u001b[0m\u001b[0;36m3\u001b[0m\u001b[0;34m,\u001b[0m \u001b[0;36m4\u001b[0m\u001b[0;34m,\u001b[0m \u001b[0misRunning\u001b[0m \u001b[0;34m=\u001b[0m \u001b[0;32mTrue\u001b[0m\u001b[0;34m)\u001b[0m\u001b[0;34m\u001b[0m\u001b[0;34m\u001b[0m\u001b[0m\n\u001b[0m",
      "\u001b[0;32m/tmp/ipykernel_116118/2414977129.py\u001b[0m in \u001b[0;36mwrapper\u001b[0;34m(*args, **kwargs)\u001b[0m\n\u001b[1;32m      2\u001b[0m     \u001b[0;32mdef\u001b[0m \u001b[0mwrapper\u001b[0m\u001b[0;34m(\u001b[0m\u001b[0;34m*\u001b[0m\u001b[0margs\u001b[0m\u001b[0;34m,\u001b[0m \u001b[0;34m**\u001b[0m\u001b[0mkwargs\u001b[0m\u001b[0;34m)\u001b[0m\u001b[0;34m:\u001b[0m\u001b[0;34m\u001b[0m\u001b[0;34m\u001b[0m\u001b[0m\n\u001b[1;32m      3\u001b[0m         \u001b[0mprint\u001b[0m\u001b[0;34m(\u001b[0m\u001b[0;34mf\"Calling {func.__name__} with args={args}, kwargs={kwargs}\"\u001b[0m\u001b[0;34m)\u001b[0m\u001b[0;34m\u001b[0m\u001b[0;34m\u001b[0m\u001b[0m\n\u001b[0;32m----> 4\u001b[0;31m         \u001b[0mresult\u001b[0m \u001b[0;34m=\u001b[0m \u001b[0mfunc\u001b[0m\u001b[0;34m(\u001b[0m\u001b[0;34m*\u001b[0m\u001b[0margs\u001b[0m\u001b[0;34m,\u001b[0m \u001b[0;34m**\u001b[0m\u001b[0mkwargs\u001b[0m\u001b[0;34m)\u001b[0m\u001b[0;34m\u001b[0m\u001b[0;34m\u001b[0m\u001b[0m\n\u001b[0m\u001b[1;32m      5\u001b[0m         \u001b[0mprint\u001b[0m\u001b[0;34m(\u001b[0m\u001b[0;34mf\"{func.__name__} returned {result}\"\u001b[0m\u001b[0;34m)\u001b[0m\u001b[0;34m\u001b[0m\u001b[0;34m\u001b[0m\u001b[0m\n\u001b[1;32m      6\u001b[0m         \u001b[0;32mfor\u001b[0m \u001b[0mkey\u001b[0m\u001b[0;34m,\u001b[0m \u001b[0mvalue\u001b[0m \u001b[0;32min\u001b[0m \u001b[0mkwargs\u001b[0m\u001b[0;34m.\u001b[0m\u001b[0mitems\u001b[0m\u001b[0;34m(\u001b[0m\u001b[0;34m)\u001b[0m\u001b[0;34m:\u001b[0m\u001b[0;34m\u001b[0m\u001b[0;34m\u001b[0m\u001b[0m\n",
      "\u001b[0;31mTypeError\u001b[0m: add() got an unexpected keyword argument 'isRunning'"
     ]
    }
   ],
   "source": [
    "def log_calls(func):\n",
    "    def wrapper(*args, **kwargs):\n",
    "        print(f\"Calling {func.__name__} with args={args}, kwargs={kwargs}\")\n",
    "        result = func(*args, **kwargs)\n",
    "        print(f\"{func.__name__} returned {result}\")\n",
    "        for key, value in kwargs.items():\n",
    "            print(f\"the keyword argument is {key} = {value}\")\n",
    "        return result\n",
    "    return wrapper\n",
    "\n",
    "@log_calls\n",
    "def add(a, b):\n",
    "    return a + b\n",
    "\n",
    "add(3, 4, isRunning = True)\n"
   ]
  },
  {
   "cell_type": "code",
   "execution_count": null,
   "id": "a9e9f559",
   "metadata": {},
   "outputs": [],
   "source": [
    "# Practice Question 1: Extending Functionality (Timing a Function)\n",
    "# This exercise focuses on adding behavior around a function without altering its core logic or return value.\n",
    "\n",
    "# The Goal:\n",
    "# Create a decorator that measures and prints the execution time of any function it decorates.\n",
    "\n",
    "# Your Task:\n",
    "\n",
    "# # Create a function to decorate. Write a function called simulate_long_process() \n",
    "# that simulates a task taking some time to complete. You can use the time.sleep() \n",
    "# method for this. The function should also return a confirmation message, like \"Process complete!\".\n",
    "\n",
    "# Create the decorator. Write a decorator named measure_time.\n",
    "\n",
    "# Inside the decorator's wrapper function, record the start time before calling the original function.\n",
    "\n",
    "# Call the original function and store its return value.\n",
    "\n",
    "# Record the end time after the function has finished.\n",
    "\n",
    "# Calculate and print the total execution time in seconds.\n",
    "\n",
    "# Finally, return the original function's stored return value\n",
    "\n",
    "# Hint:\n",
    "# You will need to import the time module to get the current time (time.time()) and to use time.sleep().\n",
    "# Remember to use *args and **kwargs in your wrapper to make the decorator work with any function"
   ]
  },
  {
   "cell_type": "code",
   "execution_count": 14,
   "id": "196481df",
   "metadata": {},
   "outputs": [
    {
     "name": "stdout",
     "output_type": "stream",
     "text": [
      "the function to note time is starting \n",
      "\n",
      "function has ended, expected time was 3s \n",
      "\n",
      "total time it took for the function to run was 10.05053973197937s \n",
      "\n"
     ]
    }
   ],
   "source": [
    "import time \n",
    "\n",
    "def measure_time(func):\n",
    "    def wrapper(*args, **kwargs):\n",
    "        print(\"the function to note time is starting \\n\")\n",
    "        start_time = time.time()\n",
    "        result = func(*args, **kwargs)\n",
    "        total_time = time.time() - start_time\n",
    "        print(f\"total time it took for the function to run was {total_time}s \\n\")\n",
    "        return result\n",
    "    return wrapper\n",
    "\n",
    "@measure_time\n",
    "def simulate_process(custom_time):\n",
    "    time.sleep(custom_time)\n",
    "    print(f\"function has ended, expected time was {custom_time}s \\n\")\n",
    "\n",
    "\n",
    "\n",
    "simulate_process(3)"
   ]
  },
  {
   "cell_type": "code",
   "execution_count": null,
   "id": "3152e3e8",
   "metadata": {},
   "outputs": [],
   "source": [
    "# # Practice Question 2: Changing Function Functionality\n",
    "# # This exercise focuses on modifying the actual output or behavior of the decorated function.\n",
    "\n",
    "# # The Goal:\n",
    "# # Create a decorator that modifies the return value of a function,\n",
    "# ensuring it is always returned as an uppercase string.\n",
    "\n",
    "# # Your Task:\n",
    "\n",
    "# # Create a function to decorate. Write a function called get_greeting(name)\n",
    "# that takes a name as an argument and returns a simple greeting string, like \"Hello, [name]!\".\n",
    "\n",
    "# # Create the decorator. Write a decorator named force_uppercase.\n",
    "\n",
    "# # The decorator's wrapper function should call the original get_greeting function and capture its string output.\n",
    "\n",
    "# # It should then convert this string to all uppercase letters.\n",
    "\n",
    "# # Finally, it should return the new, modified uppercase string instead of the original one.\n",
    "# This is the key difference from the first exercise.\n",
    "\n",
    "# # Hint:\n",
    "# # Remember that strings in Python have a built-in .upper() method that you can use to convert them to uppercase."
   ]
  },
  {
   "cell_type": "code",
   "execution_count": 21,
   "id": "e491d0f9",
   "metadata": {},
   "outputs": [
    {
     "name": "stdout",
     "output_type": "stream",
     "text": [
      "REHAN\n"
     ]
    }
   ],
   "source": [
    "def force_uppercase(func):\n",
    "    def wrapper(*args):\n",
    "        result = func(*args)\n",
    "        uppercasedResult = result.upper()\n",
    "        \n",
    "        return uppercasedResult\n",
    "    return wrapper\n",
    "\n",
    "@force_uppercase\n",
    "def get_name(name):\n",
    "    return name\n",
    "    \n",
    "    \n",
    "print(get_name(\"rehan\"))"
   ]
  },
  {
   "cell_type": "code",
   "execution_count": null,
   "id": "425e2060",
   "metadata": {},
   "outputs": [],
   "source": []
  }
 ],
 "metadata": {
  "kernelspec": {
   "display_name": "Python 3 (ipykernel)",
   "language": "python",
   "name": "python3"
  },
  "language_info": {
   "codemirror_mode": {
    "name": "ipython",
    "version": 3
   },
   "file_extension": ".py",
   "mimetype": "text/x-python",
   "name": "python",
   "nbconvert_exporter": "python",
   "pygments_lexer": "ipython3",
   "version": "3.10.12"
  }
 },
 "nbformat": 4,
 "nbformat_minor": 5
}
